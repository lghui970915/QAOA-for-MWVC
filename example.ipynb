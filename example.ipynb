{
 "cells": [
  {
   "cell_type": "raw",
   "metadata": {},
   "source": [
    "𝐻_𝐶 = 1/2 ∑𝑤_𝑖 - 1/2∑𝑤_𝑖 * 𝜎_𝑖\n",
    "𝐻_B 的设计与相连的边有关系\n",
    "初态：|1>|1>...|1>"
   ]
  },
  {
   "cell_type": "raw",
   "metadata": {},
   "source": [
    "本例的解为 11010110，即q7...q2q1q0 = 01101011\n",
    "本例中的 H_min_value = 26    #该问题的哈密顿量最小值即为 H_min_value，即网络训练后需要收敛到的最优值"
   ]
  },
  {
   "cell_type": "raw",
   "metadata": {},
   "source": [
    "1、优先调节学习率，将其调节到最合适的值。学习率太大了学习过程值会大幅度跳跃，学习率太小的话会导致目标函数收敛不到最小值。\n",
    "2、其次调节线路层数。低层的话往往得到错误的解；一般而言，层数越大，得到正确解的概率也会相应的变大。但也不应太大，否则达到收敛后值会跳跃。\n",
    "3、以上二者都无法使目标函数值收敛到最小值附近时再来调节迭代次数。一般而言，迭代次数不需要过多调节。"
   ]
  },
  {
   "cell_type": "code",
   "execution_count": 1,
   "metadata": {},
   "outputs": [],
   "source": [
    "from mindquantum.core.circuit import Circuit, UN\n",
    "from mindquantum.core.gates import H, ZZ, RX, XX, YY, RY, X\n",
    "from mindquantum.core.operators import Hamiltonian, QubitOperator\n",
    "from mindquantum.framework import MQAnsatzOnlyLayer\n",
    "from mindquantum.simulator import inner_product, Simulator\n",
    "from mindquantum.algorithm.nisq import HardwareEfficientAnsatz\n",
    "from mindquantum.core.circuit import shift, Circuit\n",
    "from mindquantum.core.operators import TimeEvolution, QubitOperator\n",
    "from mindspore.common.parameter import Parameter\n",
    "\n",
    "import matplotlib.pyplot as plt\n",
    "import networkx as nx\n",
    "import mindspore.nn as nn\n",
    "import mindspore as ms\n",
    "import numpy as np  \n",
    "import random\n",
    "import pandas as pd\n",
    "\n",
    "qubit_num = 8"
   ]
  },
  {
   "cell_type": "markdown",
   "metadata": {},
   "source": [
    "# 定义问题哈密顿量及问题层线路circuit1"
   ]
  },
  {
   "cell_type": "code",
   "execution_count": 2,
   "metadata": {},
   "outputs": [],
   "source": [
    "def Construct_Hamiltonian_C():\n",
    "    H_C = QubitOperator() \n",
    "    H_C += QubitOperator('',18)+ QubitOperator('Z0', -0.5) + QubitOperator('Z1', -1.5)+ QubitOperator('Z2', -4)+ QubitOperator('Z3', -2)+ QubitOperator('Z4', -2.5) + QubitOperator('Z5', -3.5)+ QubitOperator('Z6', -0)+ QubitOperator('Z7', -4)\n",
    "    \n",
    "    return H_C"
   ]
  },
  {
   "cell_type": "code",
   "execution_count": 3,
   "metadata": {},
   "outputs": [
    {
     "name": "stdout",
     "output_type": "stream",
     "text": [
      "  18 [] +\n",
      "-1/2 [Z0] +\n",
      "-3/2 [Z1] +\n",
      "  -4 [Z2] +\n",
      "  -2 [Z3] +\n",
      "-5/2 [Z4] +\n",
      "-7/2 [Z5] +\n",
      "  -4 [Z7]\n"
     ]
    }
   ],
   "source": [
    "H_C = Construct_Hamiltonian_C()\n",
    "print (H_C)"
   ]
  },
  {
   "cell_type": "code",
   "execution_count": 4,
   "metadata": {},
   "outputs": [
    {
     "name": "stdout",
     "output_type": "stream",
     "text": [
      "-1/2 [Z0] +\n",
      "-3/2 [Z1] +\n",
      "  -4 [Z2] +\n",
      "  -2 [Z3] +\n",
      "-5/2 [Z4] +\n",
      "-7/2 [Z5] +\n",
      "  -4 [Z7]\n"
     ]
    }
   ],
   "source": [
    "hc = H_C - 18*QubitOperator(())\n",
    "print (hc)"
   ]
  },
  {
   "cell_type": "code",
   "execution_count": 5,
   "metadata": {},
   "outputs": [
    {
     "data": {
      "image/svg+xml": [
       "<svg xmlns=\"http://www.w3.org/2000/svg\" width=\"236.8\" height=\"440.0\" xmlns:xlink=\"http://www.w3.org/1999/xlink\"><rect x=\"0\" y=\"0.0\" width=\"236.8\" height=\"440.0\" fill=\"#ffffff\" /><text x=\"20.0\" y=\"40.0\" font-size=\"16px\" dominant-baseline=\"middle\" text-anchor=\"start\" font-family=\"Arial\" font-weight=\"normal\" fill=\"#252b3a\" >q0: </text><text x=\"20.0\" y=\"100.0\" font-size=\"16px\" dominant-baseline=\"middle\" text-anchor=\"start\" font-family=\"Arial\" font-weight=\"normal\" fill=\"#252b3a\" >q1: </text><text x=\"20.0\" y=\"160.0\" font-size=\"16px\" dominant-baseline=\"middle\" text-anchor=\"start\" font-family=\"Arial\" font-weight=\"normal\" fill=\"#252b3a\" >q2: </text><text x=\"20.0\" y=\"220.0\" font-size=\"16px\" dominant-baseline=\"middle\" text-anchor=\"start\" font-family=\"Arial\" font-weight=\"normal\" fill=\"#252b3a\" >q3: </text><text x=\"20.0\" y=\"280.0\" font-size=\"16px\" dominant-baseline=\"middle\" text-anchor=\"start\" font-family=\"Arial\" font-weight=\"normal\" fill=\"#252b3a\" >q4: </text><text x=\"20.0\" y=\"340.0\" font-size=\"16px\" dominant-baseline=\"middle\" text-anchor=\"start\" font-family=\"Arial\" font-weight=\"normal\" fill=\"#252b3a\" >q5: </text><text x=\"20.0\" y=\"400.0\" font-size=\"16px\" dominant-baseline=\"middle\" text-anchor=\"start\" font-family=\"Arial\" font-weight=\"normal\" fill=\"#252b3a\" >q7: </text><line x1=\"48.8\" x2=\"216.8\" y1=\"40.0\" y2=\"40.0\" stroke=\"#adb0b8\" stroke-width=\"1\" /><line x1=\"48.8\" x2=\"216.8\" y1=\"100.0\" y2=\"100.0\" stroke=\"#adb0b8\" stroke-width=\"1\" /><line x1=\"48.8\" x2=\"216.8\" y1=\"160.0\" y2=\"160.0\" stroke=\"#adb0b8\" stroke-width=\"1\" /><line x1=\"48.8\" x2=\"216.8\" y1=\"220.0\" y2=\"220.0\" stroke=\"#adb0b8\" stroke-width=\"1\" /><line x1=\"48.8\" x2=\"216.8\" y1=\"280.0\" y2=\"280.0\" stroke=\"#adb0b8\" stroke-width=\"1\" /><line x1=\"48.8\" x2=\"216.8\" y1=\"340.0\" y2=\"340.0\" stroke=\"#adb0b8\" stroke-width=\"1\" /><line x1=\"48.8\" x2=\"216.8\" y1=\"400.0\" y2=\"400.0\" stroke=\"#adb0b8\" stroke-width=\"1\" /><rect x=\"72.8\" y=\"20.0\" width=\"120.0\" height=\"40\" rx=\"4\" ry=\"4\" stroke=\"#ffffff\" stroke-width=\"0\" fill=\"#fac209\" fill-opacity=\"1\" /><text x=\"132.8\" y=\"36.0\" font-size=\"20px\" dominant-baseline=\"middle\" text-anchor=\"middle\" font-family=\"Arial\" font-weight=\"normal\" fill=\"#ffffff\" >RZ </text><text x=\"132.8\" y=\"52.0\" font-size=\"14.0px\" dominant-baseline=\"middle\" text-anchor=\"middle\" font-family=\"Arial\" font-weight=\"normal\" fill=\"#ffffff\" >-1/2*gamma </text><rect x=\"72.8\" y=\"80.0\" width=\"120.0\" height=\"40\" rx=\"4\" ry=\"4\" stroke=\"#ffffff\" stroke-width=\"0\" fill=\"#fac209\" fill-opacity=\"1\" /><text x=\"132.8\" y=\"96.0\" font-size=\"20px\" dominant-baseline=\"middle\" text-anchor=\"middle\" font-family=\"Arial\" font-weight=\"normal\" fill=\"#ffffff\" >RZ </text><text x=\"132.8\" y=\"112.0\" font-size=\"14.0px\" dominant-baseline=\"middle\" text-anchor=\"middle\" font-family=\"Arial\" font-weight=\"normal\" fill=\"#ffffff\" >-3/2*gamma </text><rect x=\"72.8\" y=\"140.0\" width=\"80.0\" height=\"40\" rx=\"4\" ry=\"4\" stroke=\"#ffffff\" stroke-width=\"0\" fill=\"#fac209\" fill-opacity=\"1\" /><text x=\"112.8\" y=\"156.0\" font-size=\"20px\" dominant-baseline=\"middle\" text-anchor=\"middle\" font-family=\"Arial\" font-weight=\"normal\" fill=\"#ffffff\" >RZ </text><text x=\"112.8\" y=\"172.0\" font-size=\"14.0px\" dominant-baseline=\"middle\" text-anchor=\"middle\" font-family=\"Arial\" font-weight=\"normal\" fill=\"#ffffff\" >-4*gamma </text><rect x=\"72.8\" y=\"200.0\" width=\"80.0\" height=\"40\" rx=\"4\" ry=\"4\" stroke=\"#ffffff\" stroke-width=\"0\" fill=\"#fac209\" fill-opacity=\"1\" /><text x=\"112.8\" y=\"216.0\" font-size=\"20px\" dominant-baseline=\"middle\" text-anchor=\"middle\" font-family=\"Arial\" font-weight=\"normal\" fill=\"#ffffff\" >RZ </text><text x=\"112.8\" y=\"232.0\" font-size=\"14.0px\" dominant-baseline=\"middle\" text-anchor=\"middle\" font-family=\"Arial\" font-weight=\"normal\" fill=\"#ffffff\" >-2*gamma </text><rect x=\"72.8\" y=\"260.0\" width=\"120.0\" height=\"40\" rx=\"4\" ry=\"4\" stroke=\"#ffffff\" stroke-width=\"0\" fill=\"#fac209\" fill-opacity=\"1\" /><text x=\"132.8\" y=\"276.0\" font-size=\"20px\" dominant-baseline=\"middle\" text-anchor=\"middle\" font-family=\"Arial\" font-weight=\"normal\" fill=\"#ffffff\" >RZ </text><text x=\"132.8\" y=\"292.0\" font-size=\"14.0px\" dominant-baseline=\"middle\" text-anchor=\"middle\" font-family=\"Arial\" font-weight=\"normal\" fill=\"#ffffff\" >-5/2*gamma </text><rect x=\"72.8\" y=\"320.0\" width=\"120.0\" height=\"40\" rx=\"4\" ry=\"4\" stroke=\"#ffffff\" stroke-width=\"0\" fill=\"#fac209\" fill-opacity=\"1\" /><text x=\"132.8\" y=\"336.0\" font-size=\"20px\" dominant-baseline=\"middle\" text-anchor=\"middle\" font-family=\"Arial\" font-weight=\"normal\" fill=\"#ffffff\" >RZ </text><text x=\"132.8\" y=\"352.0\" font-size=\"14.0px\" dominant-baseline=\"middle\" text-anchor=\"middle\" font-family=\"Arial\" font-weight=\"normal\" fill=\"#ffffff\" >-7/2*gamma </text><rect x=\"72.8\" y=\"380.0\" width=\"80.0\" height=\"40\" rx=\"4\" ry=\"4\" stroke=\"#ffffff\" stroke-width=\"0\" fill=\"#fac209\" fill-opacity=\"1\" /><text x=\"112.8\" y=\"396.0\" font-size=\"20px\" dominant-baseline=\"middle\" text-anchor=\"middle\" font-family=\"Arial\" font-weight=\"normal\" fill=\"#ffffff\" >RZ </text><text x=\"112.8\" y=\"412.0\" font-size=\"14.0px\" dominant-baseline=\"middle\" text-anchor=\"middle\" font-family=\"Arial\" font-weight=\"normal\" fill=\"#ffffff\" >-4*gamma </text></svg>"
      ],
      "text/plain": [
       "<mindquantum.io.display.circuit_svg_drawer.SVGCircuit at 0x7f109168db80>"
      ]
     },
     "execution_count": 5,
     "metadata": {},
     "output_type": "execute_result"
    }
   ],
   "source": [
    "# circuit1是问题哈密顿量H_C中去掉单位算子I构造的电路，属于问题层(根据目标函数构建)\n",
    "circuit1 = TimeEvolution(hc,{'gamma':0.5}).circuit\n",
    "circuit1.svg()"
   ]
  },
  {
   "cell_type": "markdown",
   "metadata": {},
   "source": [
    "# 构造混合层线路𝑒^(−𝑖𝛽𝐻_𝑀 )"
   ]
  },
  {
   "cell_type": "code",
   "execution_count": 6,
   "metadata": {},
   "outputs": [],
   "source": [
    "def build_hb(para):              #自定义一个电路构建块hc（目标哈密顿量）， # \n",
    "    hb = Circuit()               # 创建量子线路\n",
    "    \n",
    "    hb += RX({para:2}).on(0, [1,3,5,6])  \n",
    "    \n",
    "    hb += RX({para:2}).on(1, [0,6])\n",
    "    \n",
    "    hb += RX({para:2}).on(2, [3,7])\n",
    "    \n",
    "    hb += RX({para:2}).on(3, [0,2,5,7])\n",
    "    \n",
    "    hb += RX({para:2}).on(4, [7,6])\n",
    "    \n",
    "    hb += RX({para:2}).on(5, [0,3])\n",
    "    \n",
    "    hb += RX({para:2}).on(6, [0,1,4])\n",
    "    \n",
    "    hb += RX({para:2}).on(7, [2,3,4])\n",
    "\n",
    " \n",
    "    \n",
    "#    hb.barrier()                    # 添加Barrier以方便展示线路\n",
    "    return hb"
   ]
  },
  {
   "cell_type": "code",
   "execution_count": 7,
   "metadata": {},
   "outputs": [
    {
     "data": {
      "image/svg+xml": [
       "<svg xmlns=\"http://www.w3.org/2000/svg\" width=\"896.8\" height=\"500.0\" xmlns:xlink=\"http://www.w3.org/1999/xlink\"><rect x=\"0\" y=\"0.0\" width=\"896.8\" height=\"500.0\" fill=\"#ffffff\" /><text x=\"20.0\" y=\"40.0\" font-size=\"16px\" dominant-baseline=\"middle\" text-anchor=\"start\" font-family=\"Arial\" font-weight=\"normal\" fill=\"#252b3a\" >q0: </text><text x=\"20.0\" y=\"100.0\" font-size=\"16px\" dominant-baseline=\"middle\" text-anchor=\"start\" font-family=\"Arial\" font-weight=\"normal\" fill=\"#252b3a\" >q1: </text><text x=\"20.0\" y=\"160.0\" font-size=\"16px\" dominant-baseline=\"middle\" text-anchor=\"start\" font-family=\"Arial\" font-weight=\"normal\" fill=\"#252b3a\" >q2: </text><text x=\"20.0\" y=\"220.0\" font-size=\"16px\" dominant-baseline=\"middle\" text-anchor=\"start\" font-family=\"Arial\" font-weight=\"normal\" fill=\"#252b3a\" >q3: </text><text x=\"20.0\" y=\"280.0\" font-size=\"16px\" dominant-baseline=\"middle\" text-anchor=\"start\" font-family=\"Arial\" font-weight=\"normal\" fill=\"#252b3a\" >q4: </text><text x=\"20.0\" y=\"340.0\" font-size=\"16px\" dominant-baseline=\"middle\" text-anchor=\"start\" font-family=\"Arial\" font-weight=\"normal\" fill=\"#252b3a\" >q5: </text><text x=\"20.0\" y=\"400.0\" font-size=\"16px\" dominant-baseline=\"middle\" text-anchor=\"start\" font-family=\"Arial\" font-weight=\"normal\" fill=\"#252b3a\" >q6: </text><text x=\"20.0\" y=\"460.0\" font-size=\"16px\" dominant-baseline=\"middle\" text-anchor=\"start\" font-family=\"Arial\" font-weight=\"normal\" fill=\"#252b3a\" >q7: </text><line x1=\"48.8\" x2=\"876.8\" y1=\"40.0\" y2=\"40.0\" stroke=\"#adb0b8\" stroke-width=\"1\" /><line x1=\"48.8\" x2=\"876.8\" y1=\"100.0\" y2=\"100.0\" stroke=\"#adb0b8\" stroke-width=\"1\" /><line x1=\"48.8\" x2=\"876.8\" y1=\"160.0\" y2=\"160.0\" stroke=\"#adb0b8\" stroke-width=\"1\" /><line x1=\"48.8\" x2=\"876.8\" y1=\"220.0\" y2=\"220.0\" stroke=\"#adb0b8\" stroke-width=\"1\" /><line x1=\"48.8\" x2=\"876.8\" y1=\"280.0\" y2=\"280.0\" stroke=\"#adb0b8\" stroke-width=\"1\" /><line x1=\"48.8\" x2=\"876.8\" y1=\"340.0\" y2=\"340.0\" stroke=\"#adb0b8\" stroke-width=\"1\" /><line x1=\"48.8\" x2=\"876.8\" y1=\"400.0\" y2=\"400.0\" stroke=\"#adb0b8\" stroke-width=\"1\" /><line x1=\"48.8\" x2=\"876.8\" y1=\"460.0\" y2=\"460.0\" stroke=\"#adb0b8\" stroke-width=\"1\" /><circle cx=\"112.8\" cy=\"100.0\" r=\"4\" fill=\"#fac209\" /><circle cx=\"112.8\" cy=\"220.0\" r=\"4\" fill=\"#fac209\" /><circle cx=\"112.8\" cy=\"340.0\" r=\"4\" fill=\"#fac209\" /><circle cx=\"112.8\" cy=\"400.0\" r=\"4\" fill=\"#fac209\" /><line x1=\"112.8\" x2=\"112.8\" y1=\"40.0\" y2=\"400.0\" stroke=\"#fac209\" stroke-width=\"3\" /><rect x=\"72.8\" y=\"20.0\" width=\"80.0\" height=\"40\" rx=\"4\" ry=\"4\" stroke=\"#ffffff\" stroke-width=\"0\" fill=\"#fac209\" fill-opacity=\"1\" /><text x=\"112.8\" y=\"36.0\" font-size=\"20px\" dominant-baseline=\"middle\" text-anchor=\"middle\" font-family=\"Arial\" font-weight=\"normal\" fill=\"#ffffff\" >RX </text><text x=\"112.8\" y=\"52.0\" font-size=\"14.0px\" dominant-baseline=\"middle\" text-anchor=\"middle\" font-family=\"Arial\" font-weight=\"normal\" fill=\"#ffffff\" >2*beta </text><circle cx=\"212.8\" cy=\"40.0\" r=\"4\" fill=\"#fac209\" /><circle cx=\"212.8\" cy=\"400.0\" r=\"4\" fill=\"#fac209\" /><line x1=\"212.8\" x2=\"212.8\" y1=\"40.0\" y2=\"400.0\" stroke=\"#fac209\" stroke-width=\"3\" /><rect x=\"172.8\" y=\"80.0\" width=\"80.0\" height=\"40\" rx=\"4\" ry=\"4\" stroke=\"#ffffff\" stroke-width=\"0\" fill=\"#fac209\" fill-opacity=\"1\" /><text x=\"212.8\" y=\"96.0\" font-size=\"20px\" dominant-baseline=\"middle\" text-anchor=\"middle\" font-family=\"Arial\" font-weight=\"normal\" fill=\"#ffffff\" >RX </text><text x=\"212.8\" y=\"112.0\" font-size=\"14.0px\" dominant-baseline=\"middle\" text-anchor=\"middle\" font-family=\"Arial\" font-weight=\"normal\" fill=\"#ffffff\" >2*beta </text><circle cx=\"312.8\" cy=\"220.0\" r=\"4\" fill=\"#fac209\" /><circle cx=\"312.8\" cy=\"460.0\" r=\"4\" fill=\"#fac209\" /><line x1=\"312.8\" x2=\"312.8\" y1=\"160.0\" y2=\"460.0\" stroke=\"#fac209\" stroke-width=\"3\" /><rect x=\"272.8\" y=\"140.0\" width=\"80.0\" height=\"40\" rx=\"4\" ry=\"4\" stroke=\"#ffffff\" stroke-width=\"0\" fill=\"#fac209\" fill-opacity=\"1\" /><text x=\"312.8\" y=\"156.0\" font-size=\"20px\" dominant-baseline=\"middle\" text-anchor=\"middle\" font-family=\"Arial\" font-weight=\"normal\" fill=\"#ffffff\" >RX </text><text x=\"312.8\" y=\"172.0\" font-size=\"14.0px\" dominant-baseline=\"middle\" text-anchor=\"middle\" font-family=\"Arial\" font-weight=\"normal\" fill=\"#ffffff\" >2*beta </text><circle cx=\"412.8\" cy=\"40.0\" r=\"4\" fill=\"#fac209\" /><circle cx=\"412.8\" cy=\"160.0\" r=\"4\" fill=\"#fac209\" /><circle cx=\"412.8\" cy=\"340.0\" r=\"4\" fill=\"#fac209\" /><circle cx=\"412.8\" cy=\"460.0\" r=\"4\" fill=\"#fac209\" /><line x1=\"412.8\" x2=\"412.8\" y1=\"40.0\" y2=\"460.0\" stroke=\"#fac209\" stroke-width=\"3\" /><rect x=\"372.8\" y=\"200.0\" width=\"80.0\" height=\"40\" rx=\"4\" ry=\"4\" stroke=\"#ffffff\" stroke-width=\"0\" fill=\"#fac209\" fill-opacity=\"1\" /><text x=\"412.8\" y=\"216.0\" font-size=\"20px\" dominant-baseline=\"middle\" text-anchor=\"middle\" font-family=\"Arial\" font-weight=\"normal\" fill=\"#ffffff\" >RX </text><text x=\"412.8\" y=\"232.0\" font-size=\"14.0px\" dominant-baseline=\"middle\" text-anchor=\"middle\" font-family=\"Arial\" font-weight=\"normal\" fill=\"#ffffff\" >2*beta </text><circle cx=\"512.8\" cy=\"460.0\" r=\"4\" fill=\"#fac209\" /><circle cx=\"512.8\" cy=\"400.0\" r=\"4\" fill=\"#fac209\" /><line x1=\"512.8\" x2=\"512.8\" y1=\"280.0\" y2=\"460.0\" stroke=\"#fac209\" stroke-width=\"3\" /><rect x=\"472.8\" y=\"260.0\" width=\"80.0\" height=\"40\" rx=\"4\" ry=\"4\" stroke=\"#ffffff\" stroke-width=\"0\" fill=\"#fac209\" fill-opacity=\"1\" /><text x=\"512.8\" y=\"276.0\" font-size=\"20px\" dominant-baseline=\"middle\" text-anchor=\"middle\" font-family=\"Arial\" font-weight=\"normal\" fill=\"#ffffff\" >RX </text><text x=\"512.8\" y=\"292.0\" font-size=\"14.0px\" dominant-baseline=\"middle\" text-anchor=\"middle\" font-family=\"Arial\" font-weight=\"normal\" fill=\"#ffffff\" >2*beta </text><circle cx=\"612.8\" cy=\"40.0\" r=\"4\" fill=\"#fac209\" /><circle cx=\"612.8\" cy=\"220.0\" r=\"4\" fill=\"#fac209\" /><line x1=\"612.8\" x2=\"612.8\" y1=\"40.0\" y2=\"340.0\" stroke=\"#fac209\" stroke-width=\"3\" /><rect x=\"572.8\" y=\"320.0\" width=\"80.0\" height=\"40\" rx=\"4\" ry=\"4\" stroke=\"#ffffff\" stroke-width=\"0\" fill=\"#fac209\" fill-opacity=\"1\" /><text x=\"612.8\" y=\"336.0\" font-size=\"20px\" dominant-baseline=\"middle\" text-anchor=\"middle\" font-family=\"Arial\" font-weight=\"normal\" fill=\"#ffffff\" >RX </text><text x=\"612.8\" y=\"352.0\" font-size=\"14.0px\" dominant-baseline=\"middle\" text-anchor=\"middle\" font-family=\"Arial\" font-weight=\"normal\" fill=\"#ffffff\" >2*beta </text><circle cx=\"712.8\" cy=\"40.0\" r=\"4\" fill=\"#fac209\" /><circle cx=\"712.8\" cy=\"100.0\" r=\"4\" fill=\"#fac209\" /><circle cx=\"712.8\" cy=\"280.0\" r=\"4\" fill=\"#fac209\" /><line x1=\"712.8\" x2=\"712.8\" y1=\"40.0\" y2=\"400.0\" stroke=\"#fac209\" stroke-width=\"3\" /><rect x=\"672.8\" y=\"380.0\" width=\"80.0\" height=\"40\" rx=\"4\" ry=\"4\" stroke=\"#ffffff\" stroke-width=\"0\" fill=\"#fac209\" fill-opacity=\"1\" /><text x=\"712.8\" y=\"396.0\" font-size=\"20px\" dominant-baseline=\"middle\" text-anchor=\"middle\" font-family=\"Arial\" font-weight=\"normal\" fill=\"#ffffff\" >RX </text><text x=\"712.8\" y=\"412.0\" font-size=\"14.0px\" dominant-baseline=\"middle\" text-anchor=\"middle\" font-family=\"Arial\" font-weight=\"normal\" fill=\"#ffffff\" >2*beta </text><circle cx=\"812.8\" cy=\"160.0\" r=\"4\" fill=\"#fac209\" /><circle cx=\"812.8\" cy=\"220.0\" r=\"4\" fill=\"#fac209\" /><circle cx=\"812.8\" cy=\"280.0\" r=\"4\" fill=\"#fac209\" /><line x1=\"812.8\" x2=\"812.8\" y1=\"160.0\" y2=\"460.0\" stroke=\"#fac209\" stroke-width=\"3\" /><rect x=\"772.8\" y=\"440.0\" width=\"80.0\" height=\"40\" rx=\"4\" ry=\"4\" stroke=\"#ffffff\" stroke-width=\"0\" fill=\"#fac209\" fill-opacity=\"1\" /><text x=\"812.8\" y=\"456.0\" font-size=\"20px\" dominant-baseline=\"middle\" text-anchor=\"middle\" font-family=\"Arial\" font-weight=\"normal\" fill=\"#ffffff\" >RX </text><text x=\"812.8\" y=\"472.0\" font-size=\"14.0px\" dominant-baseline=\"middle\" text-anchor=\"middle\" font-family=\"Arial\" font-weight=\"normal\" fill=\"#ffffff\" >2*beta </text></svg>"
      ],
      "text/plain": [
       "<mindquantum.io.display.circuit_svg_drawer.SVGCircuit at 0x7f109163a430>"
      ]
     },
     "execution_count": 7,
     "metadata": {},
     "output_type": "execute_result"
    }
   ],
   "source": [
    "# pylint: disable=W0104\n",
    "circuit2 = build_hb('beta')\n",
    "circuit2.svg()\n",
    "#circuit2.svg().to_file(filename='H_Bcircuit.svg')"
   ]
  },
  {
   "cell_type": "markdown",
   "metadata": {},
   "source": [
    "# 总线路ansatz"
   ]
  },
  {
   "cell_type": "code",
   "execution_count": 8,
   "metadata": {},
   "outputs": [],
   "source": [
    "def build_ansatz(p):                    # g是max-cut问题的图，p是ansatz线路的层数                      \n",
    "    circ = UN(X, qubit_num)             # 制备初始态，创建量子线路\n",
    "    for i in range(p):\n",
    "        circ += TimeEvolution(hc, {f'γ{i}':0.5}).circuit       # 问题层H_C  （依目标函数而设计）\n",
    "        circ += build_hb(f'β{i}')       # 混合层   （依约束条件1而设计）\n",
    "        \n",
    "    return circ"
   ]
  },
  {
   "cell_type": "code",
   "execution_count": 9,
   "metadata": {},
   "outputs": [
    {
     "data": {
      "image/svg+xml": [
       "<svg xmlns=\"http://www.w3.org/2000/svg\" width=\"736.8\" height=\"500.0\" xmlns:xlink=\"http://www.w3.org/1999/xlink\"><rect x=\"0\" y=\"0.0\" width=\"736.8\" height=\"500.0\" fill=\"#ffffff\" /><text x=\"20.0\" y=\"40.0\" font-size=\"16px\" dominant-baseline=\"middle\" text-anchor=\"start\" font-family=\"Arial\" font-weight=\"normal\" fill=\"#252b3a\" >q0: </text><text x=\"20.0\" y=\"100.0\" font-size=\"16px\" dominant-baseline=\"middle\" text-anchor=\"start\" font-family=\"Arial\" font-weight=\"normal\" fill=\"#252b3a\" >q1: </text><text x=\"20.0\" y=\"160.0\" font-size=\"16px\" dominant-baseline=\"middle\" text-anchor=\"start\" font-family=\"Arial\" font-weight=\"normal\" fill=\"#252b3a\" >q2: </text><text x=\"20.0\" y=\"220.0\" font-size=\"16px\" dominant-baseline=\"middle\" text-anchor=\"start\" font-family=\"Arial\" font-weight=\"normal\" fill=\"#252b3a\" >q3: </text><text x=\"20.0\" y=\"280.0\" font-size=\"16px\" dominant-baseline=\"middle\" text-anchor=\"start\" font-family=\"Arial\" font-weight=\"normal\" fill=\"#252b3a\" >q4: </text><text x=\"20.0\" y=\"340.0\" font-size=\"16px\" dominant-baseline=\"middle\" text-anchor=\"start\" font-family=\"Arial\" font-weight=\"normal\" fill=\"#252b3a\" >q5: </text><text x=\"20.0\" y=\"400.0\" font-size=\"16px\" dominant-baseline=\"middle\" text-anchor=\"start\" font-family=\"Arial\" font-weight=\"normal\" fill=\"#252b3a\" >q6: </text><text x=\"20.0\" y=\"460.0\" font-size=\"16px\" dominant-baseline=\"middle\" text-anchor=\"start\" font-family=\"Arial\" font-weight=\"normal\" fill=\"#252b3a\" >q7: </text><line x1=\"48.8\" x2=\"716.8\" y1=\"40.0\" y2=\"40.0\" stroke=\"#adb0b8\" stroke-width=\"1\" /><line x1=\"48.8\" x2=\"716.8\" y1=\"100.0\" y2=\"100.0\" stroke=\"#adb0b8\" stroke-width=\"1\" /><line x1=\"48.8\" x2=\"716.8\" y1=\"160.0\" y2=\"160.0\" stroke=\"#adb0b8\" stroke-width=\"1\" /><line x1=\"48.8\" x2=\"716.8\" y1=\"220.0\" y2=\"220.0\" stroke=\"#adb0b8\" stroke-width=\"1\" /><line x1=\"48.8\" x2=\"716.8\" y1=\"280.0\" y2=\"280.0\" stroke=\"#adb0b8\" stroke-width=\"1\" /><line x1=\"48.8\" x2=\"716.8\" y1=\"340.0\" y2=\"340.0\" stroke=\"#adb0b8\" stroke-width=\"1\" /><line x1=\"48.8\" x2=\"716.8\" y1=\"400.0\" y2=\"400.0\" stroke=\"#adb0b8\" stroke-width=\"1\" /><line x1=\"48.8\" x2=\"716.8\" y1=\"460.0\" y2=\"460.0\" stroke=\"#adb0b8\" stroke-width=\"1\" /><rect x=\"72.8\" y=\"20.0\" width=\"40.0\" height=\"40\" rx=\"4\" ry=\"4\" stroke=\"#ffffff\" stroke-width=\"0\" fill=\"#5e7ce0\" fill-opacity=\"1\" /><text x=\"92.8\" y=\"40.0\" font-size=\"20px\" dominant-baseline=\"middle\" text-anchor=\"middle\" font-family=\"Arial\" font-weight=\"normal\" fill=\"#ffffff\" >X </text><rect x=\"72.8\" y=\"80.0\" width=\"40.0\" height=\"40\" rx=\"4\" ry=\"4\" stroke=\"#ffffff\" stroke-width=\"0\" fill=\"#5e7ce0\" fill-opacity=\"1\" /><text x=\"92.8\" y=\"100.0\" font-size=\"20px\" dominant-baseline=\"middle\" text-anchor=\"middle\" font-family=\"Arial\" font-weight=\"normal\" fill=\"#ffffff\" >X </text><rect x=\"72.8\" y=\"140.0\" width=\"40.0\" height=\"40\" rx=\"4\" ry=\"4\" stroke=\"#ffffff\" stroke-width=\"0\" fill=\"#5e7ce0\" fill-opacity=\"1\" /><text x=\"92.8\" y=\"160.0\" font-size=\"20px\" dominant-baseline=\"middle\" text-anchor=\"middle\" font-family=\"Arial\" font-weight=\"normal\" fill=\"#ffffff\" >X </text><rect x=\"72.8\" y=\"200.0\" width=\"40.0\" height=\"40\" rx=\"4\" ry=\"4\" stroke=\"#ffffff\" stroke-width=\"0\" fill=\"#5e7ce0\" fill-opacity=\"1\" /><text x=\"92.8\" y=\"220.0\" font-size=\"20px\" dominant-baseline=\"middle\" text-anchor=\"middle\" font-family=\"Arial\" font-weight=\"normal\" fill=\"#ffffff\" >X </text><rect x=\"72.8\" y=\"260.0\" width=\"40.0\" height=\"40\" rx=\"4\" ry=\"4\" stroke=\"#ffffff\" stroke-width=\"0\" fill=\"#5e7ce0\" fill-opacity=\"1\" /><text x=\"92.8\" y=\"280.0\" font-size=\"20px\" dominant-baseline=\"middle\" text-anchor=\"middle\" font-family=\"Arial\" font-weight=\"normal\" fill=\"#ffffff\" >X </text><rect x=\"72.8\" y=\"320.0\" width=\"40.0\" height=\"40\" rx=\"4\" ry=\"4\" stroke=\"#ffffff\" stroke-width=\"0\" fill=\"#5e7ce0\" fill-opacity=\"1\" /><text x=\"92.8\" y=\"340.0\" font-size=\"20px\" dominant-baseline=\"middle\" text-anchor=\"middle\" font-family=\"Arial\" font-weight=\"normal\" fill=\"#ffffff\" >X </text><rect x=\"72.8\" y=\"380.0\" width=\"40.0\" height=\"40\" rx=\"4\" ry=\"4\" stroke=\"#ffffff\" stroke-width=\"0\" fill=\"#5e7ce0\" fill-opacity=\"1\" /><text x=\"92.8\" y=\"400.0\" font-size=\"20px\" dominant-baseline=\"middle\" text-anchor=\"middle\" font-family=\"Arial\" font-weight=\"normal\" fill=\"#ffffff\" >X </text><rect x=\"72.8\" y=\"440.0\" width=\"40.0\" height=\"40\" rx=\"4\" ry=\"4\" stroke=\"#ffffff\" stroke-width=\"0\" fill=\"#5e7ce0\" fill-opacity=\"1\" /><text x=\"92.8\" y=\"460.0\" font-size=\"20px\" dominant-baseline=\"middle\" text-anchor=\"middle\" font-family=\"Arial\" font-weight=\"normal\" fill=\"#ffffff\" >X </text><rect x=\"132.8\" y=\"20.0\" width=\"80.0\" height=\"40\" rx=\"4\" ry=\"4\" stroke=\"#ffffff\" stroke-width=\"0\" fill=\"#fac209\" fill-opacity=\"1\" /><text x=\"172.8\" y=\"36.0\" font-size=\"20px\" dominant-baseline=\"middle\" text-anchor=\"middle\" font-family=\"Arial\" font-weight=\"normal\" fill=\"#ffffff\" >RZ </text><text x=\"172.8\" y=\"52.0\" font-size=\"14.0px\" dominant-baseline=\"middle\" text-anchor=\"middle\" font-family=\"Arial\" font-weight=\"normal\" fill=\"#ffffff\" >-1/2*γ0 </text><rect x=\"132.8\" y=\"80.0\" width=\"80.0\" height=\"40\" rx=\"4\" ry=\"4\" stroke=\"#ffffff\" stroke-width=\"0\" fill=\"#fac209\" fill-opacity=\"1\" /><text x=\"172.8\" y=\"96.0\" font-size=\"20px\" dominant-baseline=\"middle\" text-anchor=\"middle\" font-family=\"Arial\" font-weight=\"normal\" fill=\"#ffffff\" >RZ </text><text x=\"172.8\" y=\"112.0\" font-size=\"14.0px\" dominant-baseline=\"middle\" text-anchor=\"middle\" font-family=\"Arial\" font-weight=\"normal\" fill=\"#ffffff\" >-3/2*γ0 </text><rect x=\"132.8\" y=\"140.0\" width=\"80.0\" height=\"40\" rx=\"4\" ry=\"4\" stroke=\"#ffffff\" stroke-width=\"0\" fill=\"#fac209\" fill-opacity=\"1\" /><text x=\"172.8\" y=\"156.0\" font-size=\"20px\" dominant-baseline=\"middle\" text-anchor=\"middle\" font-family=\"Arial\" font-weight=\"normal\" fill=\"#ffffff\" >RZ </text><text x=\"172.8\" y=\"172.0\" font-size=\"14.0px\" dominant-baseline=\"middle\" text-anchor=\"middle\" font-family=\"Arial\" font-weight=\"normal\" fill=\"#ffffff\" >-4*γ0 </text><rect x=\"132.8\" y=\"200.0\" width=\"80.0\" height=\"40\" rx=\"4\" ry=\"4\" stroke=\"#ffffff\" stroke-width=\"0\" fill=\"#fac209\" fill-opacity=\"1\" /><text x=\"172.8\" y=\"216.0\" font-size=\"20px\" dominant-baseline=\"middle\" text-anchor=\"middle\" font-family=\"Arial\" font-weight=\"normal\" fill=\"#ffffff\" >RZ </text><text x=\"172.8\" y=\"232.0\" font-size=\"14.0px\" dominant-baseline=\"middle\" text-anchor=\"middle\" font-family=\"Arial\" font-weight=\"normal\" fill=\"#ffffff\" >-2*γ0 </text><rect x=\"132.8\" y=\"260.0\" width=\"80.0\" height=\"40\" rx=\"4\" ry=\"4\" stroke=\"#ffffff\" stroke-width=\"0\" fill=\"#fac209\" fill-opacity=\"1\" /><text x=\"172.8\" y=\"276.0\" font-size=\"20px\" dominant-baseline=\"middle\" text-anchor=\"middle\" font-family=\"Arial\" font-weight=\"normal\" fill=\"#ffffff\" >RZ </text><text x=\"172.8\" y=\"292.0\" font-size=\"14.0px\" dominant-baseline=\"middle\" text-anchor=\"middle\" font-family=\"Arial\" font-weight=\"normal\" fill=\"#ffffff\" >-5/2*γ0 </text><rect x=\"132.8\" y=\"320.0\" width=\"80.0\" height=\"40\" rx=\"4\" ry=\"4\" stroke=\"#ffffff\" stroke-width=\"0\" fill=\"#fac209\" fill-opacity=\"1\" /><text x=\"172.8\" y=\"336.0\" font-size=\"20px\" dominant-baseline=\"middle\" text-anchor=\"middle\" font-family=\"Arial\" font-weight=\"normal\" fill=\"#ffffff\" >RZ </text><text x=\"172.8\" y=\"352.0\" font-size=\"14.0px\" dominant-baseline=\"middle\" text-anchor=\"middle\" font-family=\"Arial\" font-weight=\"normal\" fill=\"#ffffff\" >-7/2*γ0 </text><rect x=\"132.8\" y=\"440.0\" width=\"80.0\" height=\"40\" rx=\"4\" ry=\"4\" stroke=\"#ffffff\" stroke-width=\"0\" fill=\"#fac209\" fill-opacity=\"1\" /><text x=\"172.8\" y=\"456.0\" font-size=\"20px\" dominant-baseline=\"middle\" text-anchor=\"middle\" font-family=\"Arial\" font-weight=\"normal\" fill=\"#ffffff\" >RZ </text><text x=\"172.8\" y=\"472.0\" font-size=\"14.0px\" dominant-baseline=\"middle\" text-anchor=\"middle\" font-family=\"Arial\" font-weight=\"normal\" fill=\"#ffffff\" >-4*γ0 </text><circle cx=\"252.8\" cy=\"100.0\" r=\"4\" fill=\"#fac209\" /><circle cx=\"252.8\" cy=\"220.0\" r=\"4\" fill=\"#fac209\" /><circle cx=\"252.8\" cy=\"340.0\" r=\"4\" fill=\"#fac209\" /><circle cx=\"252.8\" cy=\"400.0\" r=\"4\" fill=\"#fac209\" /><line x1=\"252.8\" x2=\"252.8\" y1=\"40.0\" y2=\"400.0\" stroke=\"#fac209\" stroke-width=\"3\" /><rect x=\"232.8\" y=\"20.0\" width=\"40.0\" height=\"40\" rx=\"4\" ry=\"4\" stroke=\"#ffffff\" stroke-width=\"0\" fill=\"#fac209\" fill-opacity=\"1\" /><text x=\"252.8\" y=\"36.0\" font-size=\"20px\" dominant-baseline=\"middle\" text-anchor=\"middle\" font-family=\"Arial\" font-weight=\"normal\" fill=\"#ffffff\" >RX </text><text x=\"252.8\" y=\"52.0\" font-size=\"14.0px\" dominant-baseline=\"middle\" text-anchor=\"middle\" font-family=\"Arial\" font-weight=\"normal\" fill=\"#ffffff\" >2*β0 </text><circle cx=\"312.8\" cy=\"40.0\" r=\"4\" fill=\"#fac209\" /><circle cx=\"312.8\" cy=\"400.0\" r=\"4\" fill=\"#fac209\" /><line x1=\"312.8\" x2=\"312.8\" y1=\"40.0\" y2=\"400.0\" stroke=\"#fac209\" stroke-width=\"3\" /><rect x=\"292.8\" y=\"80.0\" width=\"40.0\" height=\"40\" rx=\"4\" ry=\"4\" stroke=\"#ffffff\" stroke-width=\"0\" fill=\"#fac209\" fill-opacity=\"1\" /><text x=\"312.8\" y=\"96.0\" font-size=\"20px\" dominant-baseline=\"middle\" text-anchor=\"middle\" font-family=\"Arial\" font-weight=\"normal\" fill=\"#ffffff\" >RX </text><text x=\"312.8\" y=\"112.0\" font-size=\"14.0px\" dominant-baseline=\"middle\" text-anchor=\"middle\" font-family=\"Arial\" font-weight=\"normal\" fill=\"#ffffff\" >2*β0 </text><circle cx=\"372.8\" cy=\"220.0\" r=\"4\" fill=\"#fac209\" /><circle cx=\"372.8\" cy=\"460.0\" r=\"4\" fill=\"#fac209\" /><line x1=\"372.8\" x2=\"372.8\" y1=\"160.0\" y2=\"460.0\" stroke=\"#fac209\" stroke-width=\"3\" /><rect x=\"352.8\" y=\"140.0\" width=\"40.0\" height=\"40\" rx=\"4\" ry=\"4\" stroke=\"#ffffff\" stroke-width=\"0\" fill=\"#fac209\" fill-opacity=\"1\" /><text x=\"372.8\" y=\"156.0\" font-size=\"20px\" dominant-baseline=\"middle\" text-anchor=\"middle\" font-family=\"Arial\" font-weight=\"normal\" fill=\"#ffffff\" >RX </text><text x=\"372.8\" y=\"172.0\" font-size=\"14.0px\" dominant-baseline=\"middle\" text-anchor=\"middle\" font-family=\"Arial\" font-weight=\"normal\" fill=\"#ffffff\" >2*β0 </text><circle cx=\"432.8\" cy=\"40.0\" r=\"4\" fill=\"#fac209\" /><circle cx=\"432.8\" cy=\"160.0\" r=\"4\" fill=\"#fac209\" /><circle cx=\"432.8\" cy=\"340.0\" r=\"4\" fill=\"#fac209\" /><circle cx=\"432.8\" cy=\"460.0\" r=\"4\" fill=\"#fac209\" /><line x1=\"432.8\" x2=\"432.8\" y1=\"40.0\" y2=\"460.0\" stroke=\"#fac209\" stroke-width=\"3\" /><rect x=\"412.8\" y=\"200.0\" width=\"40.0\" height=\"40\" rx=\"4\" ry=\"4\" stroke=\"#ffffff\" stroke-width=\"0\" fill=\"#fac209\" fill-opacity=\"1\" /><text x=\"432.8\" y=\"216.0\" font-size=\"20px\" dominant-baseline=\"middle\" text-anchor=\"middle\" font-family=\"Arial\" font-weight=\"normal\" fill=\"#ffffff\" >RX </text><text x=\"432.8\" y=\"232.0\" font-size=\"14.0px\" dominant-baseline=\"middle\" text-anchor=\"middle\" font-family=\"Arial\" font-weight=\"normal\" fill=\"#ffffff\" >2*β0 </text><circle cx=\"492.8\" cy=\"460.0\" r=\"4\" fill=\"#fac209\" /><circle cx=\"492.8\" cy=\"400.0\" r=\"4\" fill=\"#fac209\" /><line x1=\"492.8\" x2=\"492.8\" y1=\"280.0\" y2=\"460.0\" stroke=\"#fac209\" stroke-width=\"3\" /><rect x=\"472.8\" y=\"260.0\" width=\"40.0\" height=\"40\" rx=\"4\" ry=\"4\" stroke=\"#ffffff\" stroke-width=\"0\" fill=\"#fac209\" fill-opacity=\"1\" /><text x=\"492.8\" y=\"276.0\" font-size=\"20px\" dominant-baseline=\"middle\" text-anchor=\"middle\" font-family=\"Arial\" font-weight=\"normal\" fill=\"#ffffff\" >RX </text><text x=\"492.8\" y=\"292.0\" font-size=\"14.0px\" dominant-baseline=\"middle\" text-anchor=\"middle\" font-family=\"Arial\" font-weight=\"normal\" fill=\"#ffffff\" >2*β0 </text><circle cx=\"552.8\" cy=\"40.0\" r=\"4\" fill=\"#fac209\" /><circle cx=\"552.8\" cy=\"220.0\" r=\"4\" fill=\"#fac209\" /><line x1=\"552.8\" x2=\"552.8\" y1=\"40.0\" y2=\"340.0\" stroke=\"#fac209\" stroke-width=\"3\" /><rect x=\"532.8\" y=\"320.0\" width=\"40.0\" height=\"40\" rx=\"4\" ry=\"4\" stroke=\"#ffffff\" stroke-width=\"0\" fill=\"#fac209\" fill-opacity=\"1\" /><text x=\"552.8\" y=\"336.0\" font-size=\"20px\" dominant-baseline=\"middle\" text-anchor=\"middle\" font-family=\"Arial\" font-weight=\"normal\" fill=\"#ffffff\" >RX </text><text x=\"552.8\" y=\"352.0\" font-size=\"14.0px\" dominant-baseline=\"middle\" text-anchor=\"middle\" font-family=\"Arial\" font-weight=\"normal\" fill=\"#ffffff\" >2*β0 </text><circle cx=\"612.8\" cy=\"40.0\" r=\"4\" fill=\"#fac209\" /><circle cx=\"612.8\" cy=\"100.0\" r=\"4\" fill=\"#fac209\" /><circle cx=\"612.8\" cy=\"280.0\" r=\"4\" fill=\"#fac209\" /><line x1=\"612.8\" x2=\"612.8\" y1=\"40.0\" y2=\"400.0\" stroke=\"#fac209\" stroke-width=\"3\" /><rect x=\"592.8\" y=\"380.0\" width=\"40.0\" height=\"40\" rx=\"4\" ry=\"4\" stroke=\"#ffffff\" stroke-width=\"0\" fill=\"#fac209\" fill-opacity=\"1\" /><text x=\"612.8\" y=\"396.0\" font-size=\"20px\" dominant-baseline=\"middle\" text-anchor=\"middle\" font-family=\"Arial\" font-weight=\"normal\" fill=\"#ffffff\" >RX </text><text x=\"612.8\" y=\"412.0\" font-size=\"14.0px\" dominant-baseline=\"middle\" text-anchor=\"middle\" font-family=\"Arial\" font-weight=\"normal\" fill=\"#ffffff\" >2*β0 </text><circle cx=\"672.8\" cy=\"160.0\" r=\"4\" fill=\"#fac209\" /><circle cx=\"672.8\" cy=\"220.0\" r=\"4\" fill=\"#fac209\" /><circle cx=\"672.8\" cy=\"280.0\" r=\"4\" fill=\"#fac209\" /><line x1=\"672.8\" x2=\"672.8\" y1=\"160.0\" y2=\"460.0\" stroke=\"#fac209\" stroke-width=\"3\" /><rect x=\"652.8\" y=\"440.0\" width=\"40.0\" height=\"40\" rx=\"4\" ry=\"4\" stroke=\"#ffffff\" stroke-width=\"0\" fill=\"#fac209\" fill-opacity=\"1\" /><text x=\"672.8\" y=\"456.0\" font-size=\"20px\" dominant-baseline=\"middle\" text-anchor=\"middle\" font-family=\"Arial\" font-weight=\"normal\" fill=\"#ffffff\" >RX </text><text x=\"672.8\" y=\"472.0\" font-size=\"14.0px\" dominant-baseline=\"middle\" text-anchor=\"middle\" font-family=\"Arial\" font-weight=\"normal\" fill=\"#ffffff\" >2*β0 </text></svg>"
      ],
      "text/plain": [
       "<mindquantum.io.display.circuit_svg_drawer.SVGCircuit at 0x7f10915e07f0>"
      ]
     },
     "execution_count": 9,
     "metadata": {},
     "output_type": "execute_result"
    }
   ],
   "source": [
    "p = 1\n",
    "build_ansatz(p).svg()                                      #展示完整的量子线路\n",
    "#build_ansatz(p).svg().to_file(filename='Full_circuit.svg')   #展示完整的量子线路"
   ]
  },
  {
   "cell_type": "markdown",
   "metadata": {},
   "source": [
    "# 单次实验"
   ]
  },
  {
   "cell_type": "code",
   "execution_count": 14,
   "metadata": {},
   "outputs": [
    {
     "name": "stdout",
     "output_type": "stream",
     "text": [
      "i = 0 energy = 25.846857\n",
      "i = 10 energy = 18.398424\n",
      "i = 20 energy = 18.130938\n",
      "i = 30 energy = 18.070623\n",
      "i = 40 energy = 18.018373\n",
      "i = 50 energy = 18.005230\n",
      "i = 60 energy = 18.002373\n",
      "i = 70 energy = 18.000870\n",
      "i = 80 energy = 18.000362\n",
      "i = 90 energy = 18.000076\n",
      "i = 100 energy = 18.000050\n",
      "i = 110 energy = 18.000011\n",
      "i = 120 energy = 18.000006\n",
      "i = 130 energy = 18.000002\n",
      "i = 140 energy = 18.000002\n",
      "i = 150 energy = 18.000000\n",
      "i = 160 energy = 18.000000\n",
      "i = 170 energy = 18.000000\n",
      "i = 180 energy = 18.000000\n",
      "i = 190 energy = 18.000000\n",
      "i = 200 energy = 18.000000\n",
      "i = 210 energy = 18.000000\n",
      "i = 220 energy = 18.000000\n",
      "i = 230 energy = 18.000000\n",
      "i = 240 energy = 18.000000\n",
      "i = 250 energy = 18.000000\n",
      "i = 260 energy = 18.000000\n",
      "i = 270 energy = 18.000000\n",
      "i = 280 energy = 18.000000\n",
      "i = 290 energy = 18.000000\n",
      "i = 300 energy = 18.000000\n",
      "i = 310 energy = 18.000000\n",
      "i = 320 energy = 18.000000\n",
      "i = 330 energy = 18.000000\n",
      "i = 340 energy = 18.000000\n",
      "i = 350 energy = 18.000000\n",
      "i = 360 energy = 18.000000\n",
      "i = 370 energy = 18.000000\n",
      "i = 380 energy = 18.000000\n",
      "i = 390 energy = 18.000000\n",
      "i = 400 energy = 18.000000\n",
      "i = 410 energy = 18.000000\n",
      "i = 420 energy = 18.000000\n",
      "i = 430 energy = 18.000000\n",
      "i = 440 energy = 18.000000\n",
      "i = 450 energy = 18.000000\n",
      "i = 460 energy = 18.000000\n",
      "i = 470 energy = 18.000000\n",
      "i = 480 energy = 18.000000\n",
      "i = 490 energy = 18.000000\n"
     ]
    }
   ],
   "source": [
    "p =8\n",
    "ham = Hamiltonian(Construct_Hamiltonian_C()) # 生成哈密顿量\n",
    "circ = build_ansatz(p)                  # 生成ansatz线路\n",
    "\n",
    "ms.set_context(mode=ms.PYNATIVE_MODE, device_target=\"CPU\")\n",
    "sim = Simulator('mqvector', circ.n_qubits)                     # 创建模拟器，backend使用‘mqvector’，能模拟5个比特（'circ'线路中包含的比特数）\n",
    "grad_ops = sim.get_expectation_with_grad(ham, circ)            # 获取计算变分量子线路的期望值和梯度的算子\n",
    "net = MQAnsatzOnlyLayer(grad_ops)                              # 生成待训练的神经网络\n",
    "net.weight = Parameter((np.random.rand(len(net.weight))*np.pi).astype(np.float32))\n",
    "Iparameter = dict(zip(circ.params_name, net.weight.asnumpy()))\n",
    "\n",
    "opti = nn.Adam(net.trainable_params(), learning_rate = 0.1)     # 设置针对网络中所有可训练参数、学习率为0.05的Adam优化器\n",
    "train_net = nn.TrainOneStepCell(net, opti)                     # 对神经网络进行一步训练                   # 对神经网络进行一步训练\n",
    "\n",
    "for i in range(500):\n",
    "    energy = train_net()    # 将神经网络训练一步并计算得到的结果。注意：每当'train_net()'运行一次，神经网络就训练了一步\n",
    "    \n",
    "    if i%10 == 0:\n",
    "        print('i = %d energy = %f'%(i,energy))\n",
    "    "
   ]
  },
  {
   "cell_type": "code",
   "execution_count": 15,
   "metadata": {},
   "outputs": [
    {
     "name": "stdout",
     "output_type": "stream",
     "text": [
      "initial parameter is: {'γ0': 1.3706175, 'β0': 2.1406102, 'γ1': 2.188566, 'β1': 0.21785836, 'γ2': 0.51359147, 'β2': 1.443228, 'γ3': 3.0574284, 'β3': 1.8980286, 'γ4': 3.0803127, 'β4': 1.734688, 'γ5': 0.9522968, 'β5': 1.7448479, 'γ6': 1.7370114, 'β6': 1.5550985, 'γ7': 1.4651251, 'β7': 2.853419}\n",
      "optimal parameter: {'γ0': 1.370584, 'β0': 1.5707964, 'γ1': 1.5987562, 'β1': -1.1619411e-07, 'γ2': 0.096521154, 'β2': 1.5707963, 'γ3': 3.832863, 'β3': 1.5707963, 'γ4': 2.8489776, 'β4': 1.5707965, 'γ5': 1.4770577, 'β5': 1.570796, 'γ6': 0.93683153, 'β6': 1.5707963, 'γ7': 0.6617078, 'β7': 3.1415925}\n",
      "fid1: 0.9999999999995126\n",
      "The F value is: [18.]\n",
      "A.R.: [0.7222222]\n"
     ]
    }
   ],
   "source": [
    "pr = dict(zip(circ.params_name, net.weight.asnumpy())) # 获取线路参数\n",
    "state = circ.get_qs(pr=pr)\n",
    "\n",
    "v1 = [0]* 2**qubit_num\n",
    "v1[93] = 1       #这里指定的量子态v也是降序的qubits，即应该是q2q1q0,即应该是110，化为十进制是1*2^2+1*2^1+0*2^0=6\n",
    "fid1 = np.abs(np.vdot(v1,state))**2 \n",
    "\n",
    "#v2 = [0]* 2**qubit_num\n",
    "#v2[124] = 1       #这里指定的量子态v也是降序的qubits，即应该是q2q1q0,即应该是110，化为十进制是1*2^2+1*2^1+0*2^0=6\n",
    "#fid2 = np.abs(np.vdot(v2,state))**2\n",
    "\n",
    "state = circ.get_qs(pr=pr,ket=True)\n",
    "#print('untrained quantum states:{}'.format(state)) #检查输出态是否满足可行解空间\n",
    "print('initial parameter is: {}'.format(Iparameter))   #检查初始参数是否是从（0,π选的）\n",
    "\n",
    "print(('optimal parameter: {}'.format(pr)))\n",
    "print('fid1: {}'.format(fid1))\n",
    "#print('fid2: {}'.format(fid2))\n",
    "#print('获得解的概率: {}'.format(fid1+fid2))\n",
    "print('The F value is: {}'.format(energy))\n",
    "print('A.R.: {}'.format(13/energy))"
   ]
  },
  {
   "cell_type": "code",
   "execution_count": null,
   "metadata": {},
   "outputs": [],
   "source": [
    "circ.measure_all()                               # 为线路中所有比特添加测量门\n",
    "sim.sampling(circ, pr=pr, shots=1000).svg()"
   ]
  },
  {
   "cell_type": "markdown",
   "metadata": {},
   "source": [
    "# _main_文件\n",
    "主要是为了比较期望值和成功概率随层数p的变化情况"
   ]
  },
  {
   "cell_type": "markdown",
   "metadata": {},
   "source": [
    "# 以Excel（.xlsx）文件的形式输出训练结果"
   ]
  },
  {
   "cell_type": "code",
   "execution_count": null,
   "metadata": {},
   "outputs": [],
   "source": [
    "if __name__ == \"__main__\":\n",
    "    #创建一个空的DataFrame来存储结果\n",
    "    results = []\n",
    "\n",
    "    for p in range(1, 9):\n",
    "        print('The p value is: {}'.format(p))\n",
    "        for t in range(1, 501):\n",
    "            ham = Hamiltonian(Construct_Hamiltonian_C()) # 生成哈密顿量\n",
    "            circ = build_ansatz(p)                  # 生成ansatz线路\n",
    "\n",
    "            ms.set_context(mode=ms.PYNATIVE_MODE, device_target=\"CPU\")\n",
    "            sim = Simulator('mqvector', circ.n_qubits)                     # 创建模拟器，backend使用‘mqvector’，能模拟5个比特（'circ'线路中包含的比特数）\n",
    "            grad_ops = sim.get_expectation_with_grad(ham, circ)            # 获取计算变分量子线路的期望值和梯度的算子\n",
    "            net = MQAnsatzOnlyLayer(grad_ops)                              # 生成待训练的神经网络\n",
    "            net.weight = Parameter((np.random.rand(len(net.weight)) * np.pi).astype(np.float32))\n",
    "            theta = dict(zip(circ.params_name, net.weight.asnumpy()))\n",
    "\n",
    "            opti = nn.Adam(net.trainable_params(), learning_rate = 0.05)     # 设置针对网络中所有可训练参数、学习率为0.05的Adam优化器\n",
    "            train_net = nn.TrainOneStepCell(net, opti)                     # 对神经网络进行一步训练                   \n",
    "                \n",
    "            \n",
    "            for i in range(500):\n",
    "                energy = train_net()\n",
    "                #if i%500 == 0:\n",
    "                #    print('i = %d energy = %f'%(i,energy))\n",
    "                \n",
    "            pr = dict(zip(circ.params_name, net.weight.asnumpy())) \n",
    "            state = circ.get_qs(pr=pr)\n",
    "            \n",
    "            v1 = [0]* 2**qubit_num\n",
    "            v1[93] = 1       #这里指定的量子态v也是降序的qubits，即应该是q2q1q0,即应该是110，化为十进制是1*2^2+1*2^1+0*2^0=6\n",
    "            fid1 = np.abs(np.vdot(v1,state))**2 \n",
    "\n",
    "            # 将结果添加到列表\n",
    "            results.append({\"p\": p, \"t\": t, \"energy\": energy, \"A.R.\": 17/energy, \"Fidelity\": fid1})\n",
    "            \n",
    "            #命令交互行输出，便于区分（实际上没啥必要）            \n",
    "            #print('t: {}'.format(t))\n",
    "\n",
    "        # 将列表转换为DataFrame\n",
    "        df = pd.DataFrame(results)\n",
    "\n",
    "        # 将DataFrame写入Excel文件\n",
    "        df.to_excel(r\"/home/lzztlb/liguanghui/AAResearch/liguanghui（code)/科研/MWVC/AQT所用/MWVCv2_AQT_v1/compare QAOA/8/QAOA+ data/8-9.xlsx\", index=False)\n",
    "    "
   ]
  },
  {
   "cell_type": "code",
   "execution_count": null,
   "metadata": {},
   "outputs": [],
   "source": []
  }
 ],
 "metadata": {
  "kernelspec": {
   "display_name": "mind_ipykernel",
   "language": "python",
   "name": "mind_ipykernel"
  },
  "language_info": {
   "codemirror_mode": {
    "name": "ipython",
    "version": 3
   },
   "file_extension": ".py",
   "mimetype": "text/x-python",
   "name": "python",
   "nbconvert_exporter": "python",
   "pygments_lexer": "ipython3",
   "version": "3.8.18"
  }
 },
 "nbformat": 4,
 "nbformat_minor": 5
}
